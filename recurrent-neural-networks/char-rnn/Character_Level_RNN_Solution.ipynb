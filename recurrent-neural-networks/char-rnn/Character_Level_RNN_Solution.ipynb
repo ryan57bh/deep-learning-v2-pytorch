{
 "cells": [
  {
   "cell_type": "markdown",
   "metadata": {},
   "source": [
    "# Character-Level LSTM in PyTorch\n",
    "\n",
    "In this notebook, I'll construct a character-level LSTM with PyTorch. The network will train character by character on some text, then generate new text character by character. As an example, I will train on Anna Karenina. **This model will be able to generate new text based on the text from the book!**\n",
    "\n",
    "This network is based off of Andrej Karpathy's [post on RNNs](http://karpathy.github.io/2015/05/21/rnn-effectiveness/) and [implementation in Torch](https://github.com/karpathy/char-rnn). Below is the general architecture of the character-wise RNN.\n",
    "\n",
    "<img src=\"assets/charseq.jpeg\" width=\"500\">"
   ]
  },
  {
   "cell_type": "markdown",
   "metadata": {},
   "source": [
    "First let's load in our required resources for data loading and model creation."
   ]
  },
  {
   "cell_type": "code",
   "execution_count": 1,
   "metadata": {
    "collapsed": true
   },
   "outputs": [],
   "source": [
    "import numpy as np\n",
    "import torch\n",
    "from torch import nn\n",
    "import torch.nn.functional as F"
   ]
  },
  {
   "cell_type": "markdown",
   "metadata": {},
   "source": [
    "## Load in Data\n",
    "\n",
    "Then, we'll load the Anna Karenina text file and convert it into integers for our network to use. "
   ]
  },
  {
   "cell_type": "code",
   "execution_count": 2,
   "metadata": {
    "collapsed": true
   },
   "outputs": [],
   "source": [
    "# open text file and read in data as `text`\n",
    "with open('data/anna.txt', 'r') as f:\n",
    "    text = f.read()"
   ]
  },
  {
   "cell_type": "markdown",
   "metadata": {},
   "source": [
    "Let's check out the first 100 characters, make sure everything is peachy. According to the [American Book Review](http://americanbookreview.org/100bestlines.asp), this is the 6th best first line of a book ever."
   ]
  },
  {
   "cell_type": "code",
   "execution_count": 3,
   "metadata": {},
   "outputs": [
    {
     "data": {
      "text/plain": [
       "'Chapter 1\\n\\n\\nHappy families are all alike; every unhappy family is unhappy in its own\\nway.\\n\\nEverythin'"
      ]
     },
     "execution_count": 3,
     "metadata": {},
     "output_type": "execute_result"
    }
   ],
   "source": [
    "text[:100]"
   ]
  },
  {
   "cell_type": "markdown",
   "metadata": {},
   "source": [
    "### Tokenization\n",
    "\n",
    "In the cells, below, I'm creating a couple **dictionaries** to convert the characters to and from integers. Encoding the characters as integers makes it easier to use as input in the network."
   ]
  },
  {
   "cell_type": "code",
   "execution_count": 4,
   "metadata": {
    "collapsed": true
   },
   "outputs": [],
   "source": [
    "# encode the text and map each character to an integer and vice versa\n",
    "\n",
    "# we create two dictionaries:\n",
    "# 1. int2char, which maps integers to characters\n",
    "# 2. char2int, which maps characters to unique integers\n",
    "chars = tuple(set(text))\n",
    "int2char = dict(enumerate(chars))\n",
    "char2int = {ch: ii for ii, ch in int2char.items()}\n",
    "\n",
    "# encode the text\n",
    "encoded = np.array([char2int[ch] for ch in text])"
   ]
  },
  {
   "cell_type": "markdown",
   "metadata": {},
   "source": [
    "And we can see those same characters from above, encoded as integers."
   ]
  },
  {
   "cell_type": "code",
   "execution_count": 5,
   "metadata": {},
   "outputs": [
    {
     "data": {
      "text/plain": [
       "array([10, 42, 41, 35, 71,  6, 27, 21, 74,  0,  0,  0, 76, 41, 35, 35,  8,\n",
       "       21, 80, 41, 36, 25, 79, 25,  6, 75, 21, 41, 27,  6, 21, 41, 79, 79,\n",
       "       21, 41, 79, 25, 23,  6, 12, 21,  6, 60,  6, 27,  8, 21, 63, 69, 42,\n",
       "       41, 35, 35,  8, 21, 80, 41, 36, 25, 79,  8, 21, 25, 75, 21, 63, 69,\n",
       "       42, 41, 35, 35,  8, 21, 25, 69, 21, 25, 71, 75, 21, 37, 65, 69,  0,\n",
       "       65, 41,  8, 78,  0,  0, 18, 60,  6, 27,  8, 71, 42, 25, 69])"
      ]
     },
     "execution_count": 5,
     "metadata": {},
     "output_type": "execute_result"
    }
   ],
   "source": [
    "encoded[:100]"
   ]
  },
  {
   "cell_type": "markdown",
   "metadata": {},
   "source": [
    "## Pre-processing the data\n",
    "\n",
    "As you can see in our char-RNN image above, our LSTM expects an input that is **one-hot encoded** meaning that each character is converted into an integer (via our created dictionary) and *then* converted into a column vector where only it's corresponding integer index will have the value of 1 and the rest of the vector will be filled with 0's. Since we're one-hot encoding the data, let's make a function to do that!\n"
   ]
  },
  {
   "cell_type": "code",
   "execution_count": 6,
   "metadata": {
    "collapsed": true
   },
   "outputs": [],
   "source": [
    "def one_hot_encode(arr, n_labels):\n",
    "    \n",
    "    # Initialize the the encoded array\n",
    "    one_hot = np.zeros((np.multiply(*arr.shape), n_labels), dtype=np.float32)\n",
    "    \n",
    "    # Fill the appropriate elements with ones\n",
    "    one_hot[np.arange(one_hot.shape[0]), arr.flatten()] = 1.\n",
    "    \n",
    "    # Finally reshape it to get back to the original array\n",
    "    one_hot = one_hot.reshape((*arr.shape, n_labels))\n",
    "    \n",
    "    return one_hot"
   ]
  },
  {
   "cell_type": "code",
   "execution_count": 7,
   "metadata": {},
   "outputs": [
    {
     "name": "stdout",
     "output_type": "stream",
     "text": [
      "[[[ 0.  0.  0.  1.  0.  0.  0.  0.]\n",
      "  [ 0.  0.  0.  0.  0.  1.  0.  0.]\n",
      "  [ 0.  1.  0.  0.  0.  0.  0.  0.]]]\n"
     ]
    }
   ],
   "source": [
    "# check that the function works as expected\n",
    "test_seq = np.array([[3, 5, 1]])\n",
    "one_hot = one_hot_encode(test_seq, 8)\n",
    "\n",
    "print(one_hot)"
   ]
  },
  {
   "cell_type": "markdown",
   "metadata": {},
   "source": [
    "## Making training mini-batches\n",
    "\n",
    "\n",
    "To train on this data, we also want to create mini-batches for training. Remember that we want our batches to be multiple sequences of some desired number of sequence steps. Considering a simple example, our batches would look like this:\n",
    "\n",
    "<img src=\"assets/sequence_batching@1x.png\" width=500px>\n",
    "\n",
    "\n",
    "<br>\n",
    "\n",
    "In this example, we'll take the encoded characters (passed in as the `arr` parameter) and split them into multiple sequences, given by `batch_size`. Each of our sequences will be `seq_length` long.\n",
    "\n",
    "### Creating Batches\n",
    "\n",
    "**1. The first thing we need to do is discard some of the text so we only have completely full mini-batches. **\n",
    "\n",
    "Each batch contains $N \\times M$ characters, where $N$ is the batch size (the number of sequences in a batch) and $M$ is the seq_length or number of time steps in a sequence. Then, to get the total number of batches, $K$, that we can make from the array `arr`, you divide the length of `arr` by the number of characters per batch. Once you know the number of batches, you can get the total number of characters to keep from `arr`, $N * M * K$.\n",
    "\n",
    "**2. After that, we need to split `arr` into $N$ batches. ** \n",
    "\n",
    "You can do this using `arr.reshape(size)` where `size` is a tuple containing the dimensions sizes of the reshaped array. We know we want $N$ sequences in a batch, so let's make that the size of the first dimension. For the second dimension, you can use `-1` as a placeholder in the size, it'll fill up the array with the appropriate data for you. After this, you should have an array that is $N \\times (M * K)$.\n",
    "\n",
    "**3. Now that we have this array, we can iterate through it to get our mini-batches. **\n",
    "\n",
    "The idea is each batch is a $N \\times M$ window on the $N \\times (M * K)$ array. For each subsequent batch, the window moves over by `seq_length`. We also want to create both the input and target arrays. Remember that the targets are just the inputs shifted over by one character. The way I like to do this window is use `range` to take steps of size `n_steps` from $0$ to `arr.shape[1]`, the total number of tokens in each sequence. That way, the integers you get from `range` always point to the start of a batch, and each window is `seq_length` wide.\n",
    "\n",
    "> **TODO:** Write the code for creating batches in the function below. The exercises in this notebook _will not be easy_. I've provided a notebook with solutions alongside this notebook. If you get stuck, checkout the solutions. The most important thing is that you don't copy and paste the code into here, **type out the solution code yourself.**"
   ]
  },
  {
   "cell_type": "code",
   "execution_count": 8,
   "metadata": {
    "collapsed": true
   },
   "outputs": [],
   "source": [
    "def get_batches(arr, batch_size, seq_length):\n",
    "    '''Create a generator that returns batches of size\n",
    "       batch_size x seq_length from arr.\n",
    "       \n",
    "       Arguments\n",
    "       ---------\n",
    "       arr: Array you want to make batches from\n",
    "       batch_size: Batch size, the number of sequences per batch\n",
    "       seq_length: Number of encoded chars in a sequence\n",
    "    '''\n",
    "    \n",
    "    batch_size_total = batch_size * seq_length\n",
    "    # total number of batches we can make\n",
    "    n_batches = len(arr)//batch_size_total\n",
    "    \n",
    "    # Keep only enough characters to make full batches\n",
    "    arr = arr[:n_batches * batch_size_total]\n",
    "    # Reshape into batch_size rows\n",
    "    arr = arr.reshape((batch_size, -1))\n",
    "    \n",
    "    # iterate through the array, one sequence at a time\n",
    "    for n in range(0, arr.shape[1], seq_length):\n",
    "        # The features\n",
    "        x = arr[:, n:n+seq_length]\n",
    "        # The targets, shifted by one\n",
    "        y = np.zeros_like(x)\n",
    "        try:\n",
    "            y[:, :-1], y[:, -1] = x[:, 1:], arr[:, n+seq_length]\n",
    "        except IndexError:\n",
    "            y[:, :-1], y[:, -1] = x[:, 1:], arr[:, 0]\n",
    "        yield x, y"
   ]
  },
  {
   "cell_type": "markdown",
   "metadata": {},
   "source": [
    "### Test Your Implementation\n",
    "\n",
    "Now I'll make some data sets and we can check out what's going on as we batch data. Here, as an example, I'm going to use a batch size of 8 and 50 sequence steps."
   ]
  },
  {
   "cell_type": "code",
   "execution_count": 9,
   "metadata": {
    "collapsed": true
   },
   "outputs": [],
   "source": [
    "batches = get_batches(encoded, 8, 50)\n",
    "x, y = next(batches)"
   ]
  },
  {
   "cell_type": "code",
   "execution_count": 10,
   "metadata": {},
   "outputs": [
    {
     "name": "stdout",
     "output_type": "stream",
     "text": [
      "x\n",
      " [[10 42 41 35 71  6 27 21 74  0]\n",
      " [75 37 69 21 71 42 41 71 21 41]\n",
      " [ 6 69 22 21 37 27 21 41 21 80]\n",
      " [75 21 71 42  6 21 30 42 25  6]\n",
      " [21 75 41 65 21 42  6 27 21 71]\n",
      " [30 63 75 75 25 37 69 21 41 69]\n",
      " [21  5 69 69 41 21 42 41 22 21]\n",
      " [56 73 79 37 69 75 23  8 78 21]]\n",
      "\n",
      "y\n",
      " [[42 41 35 71  6 27 21 74  0  0]\n",
      " [37 69 21 71 42 41 71 21 41 71]\n",
      " [69 22 21 37 27 21 41 21 80 37]\n",
      " [21 71 42  6 21 30 42 25  6 80]\n",
      " [75 41 65 21 42  6 27 21 71  6]\n",
      " [63 75 75 25 37 69 21 41 69 22]\n",
      " [ 5 69 69 41 21 42 41 22 21 75]\n",
      " [73 79 37 69 75 23  8 78 21 43]]\n"
     ]
    }
   ],
   "source": [
    "# printing out the first 10 items in a sequence\n",
    "print('x\\n', x[:10, :10])\n",
    "print('\\ny\\n', y[:10, :10])"
   ]
  },
  {
   "cell_type": "markdown",
   "metadata": {},
   "source": [
    "If you implemented `get_batches` correctly, the above output should look something like \n",
    "```\n",
    "x\n",
    " [[25  8 60 11 45 27 28 73  1  2]\n",
    " [17  7 20 73 45  8 60 45 73 60]\n",
    " [27 20 80 73  7 28 73 60 73 65]\n",
    " [17 73 45  8 27 73 66  8 46 27]\n",
    " [73 17 60 12 73  8 27 28 73 45]\n",
    " [66 64 17 17 46  7 20 73 60 20]\n",
    " [73 76 20 20 60 73  8 60 80 73]\n",
    " [47 35 43  7 20 17 24 50 37 73]]\n",
    "\n",
    "y\n",
    " [[ 8 60 11 45 27 28 73  1  2  2]\n",
    " [ 7 20 73 45  8 60 45 73 60 45]\n",
    " [20 80 73  7 28 73 60 73 65  7]\n",
    " [73 45  8 27 73 66  8 46 27 65]\n",
    " [17 60 12 73  8 27 28 73 45 27]\n",
    " [64 17 17 46  7 20 73 60 20 80]\n",
    " [76 20 20 60 73  8 60 80 73 17]\n",
    " [35 43  7 20 17 24 50 37 73 36]]\n",
    " ```\n",
    " although the exact numbers may be different. Check to make sure the data is shifted over one step for `y`."
   ]
  },
  {
   "cell_type": "markdown",
   "metadata": {},
   "source": [
    "---\n",
    "## Defining the network with PyTorch\n",
    "\n",
    "Below is where you'll define the network.\n",
    "\n",
    "<img src=\"assets/charRNN.png\" width=500px>\n",
    "\n",
    "Next, you'll use PyTorch to define the architecture of the network. We start by defining the layers and operations we want. Then, define a method for the forward pass. You've also been given a method for predicting characters."
   ]
  },
  {
   "cell_type": "markdown",
   "metadata": {},
   "source": [
    "### Model Structure\n",
    "\n",
    "In `__init__` the suggested structure is as follows:\n",
    "* Create and store the necessary dictionaries (this has been done for you)\n",
    "* Define an LSTM layer that takes as params: an input size (the number of characters), a hidden layer size `n_hidden`, a number of layers `n_layers`, a dropout probability `drop_prob`, and a batch_first boolean (True, since we are batching)\n",
    "* Define a dropout layer with `dropout_prob`\n",
    "* Define a fully-connected layer with params: input size `n_hidden` and output size (the number of characters)\n",
    "* Finally, initialize the weights (again, this has been given)\n",
    "\n",
    "Note that some parameters have been named and given in the `__init__` function, and we use them and store them by doing something like `self.drop_prob = drop_prob`."
   ]
  },
  {
   "cell_type": "markdown",
   "metadata": {},
   "source": [
    "---\n",
    "### LSTM Inputs/Outputs\n",
    "\n",
    "You can create a basic [LSTM layer](https://pytorch.org/docs/stable/nn.html#lstm) as follows\n",
    "\n",
    "```python\n",
    "self.lstm = nn.LSTM(input_size, n_hidden, n_layers, \n",
    "                            dropout=drop_prob, batch_first=True)\n",
    "```\n",
    "\n",
    "where `input_size` is the number of characters this cell expects to see as sequential input, and `n_hidden` is the number of units in the hidden layers in the cell. And we can add dropout by adding a dropout parameter with a specified probability; this will automatically add dropout to the inputs or outputs. Finally, in the `forward` function, we can stack up the LSTM cells into layers using `.view`. With this, you pass in a list of cells and it will send the output of one cell into the next cell.\n",
    "\n",
    "We also need to create an initial hidden state of all zeros. This is done like so\n",
    "\n",
    "```python\n",
    "self.init_hidden()\n",
    "```"
   ]
  },
  {
   "cell_type": "code",
   "execution_count": 11,
   "metadata": {},
   "outputs": [
    {
     "name": "stdout",
     "output_type": "stream",
     "text": [
      "Training on GPU!\n"
     ]
    }
   ],
   "source": [
    "# check if GPU is available\n",
    "train_on_gpu = torch.cuda.is_available()\n",
    "if(train_on_gpu):\n",
    "    print('Training on GPU!')\n",
    "else: \n",
    "    print('No GPU available, training on CPU; consider making n_epochs very small.')"
   ]
  },
  {
   "cell_type": "code",
   "execution_count": 12,
   "metadata": {
    "collapsed": true
   },
   "outputs": [],
   "source": [
    "class CharRNN(nn.Module):\n",
    "    \n",
    "    def __init__(self, tokens, n_hidden=256, n_layers=2,\n",
    "                               drop_prob=0.5, lr=0.001):\n",
    "        super().__init__()\n",
    "        self.drop_prob = drop_prob\n",
    "        self.n_layers = n_layers\n",
    "        self.n_hidden = n_hidden\n",
    "        self.lr = lr\n",
    "        \n",
    "        # creating character dictionaries\n",
    "        self.chars = tokens\n",
    "        self.int2char = dict(enumerate(self.chars))\n",
    "        self.char2int = {ch: ii for ii, ch in self.int2char.items()}\n",
    "        \n",
    "        ## TODO: define the LSTM\n",
    "        self.lstm = nn.LSTM(len(self.chars), n_hidden, n_layers, \n",
    "                            dropout=drop_prob, batch_first=True)\n",
    "        \n",
    "        ## TODO: define a dropout layer\n",
    "        self.dropout = nn.Dropout(drop_prob)\n",
    "        \n",
    "        ## TODO: define the final, fully-connected output layer\n",
    "        self.fc = nn.Linear(n_hidden, len(self.chars))\n",
    "      \n",
    "    \n",
    "    def forward(self, x, hidden):\n",
    "        ''' Forward pass through the network. \n",
    "            These inputs are x, and the hidden/cell state `hidden`. '''\n",
    "                \n",
    "        ## TODO: Get the outputs and the new hidden state from the lstm\n",
    "        r_output, hidden = self.lstm(x, hidden)\n",
    "        \n",
    "        ## TODO: pass through a dropout layer\n",
    "        out = self.dropout(r_output)\n",
    "        \n",
    "        # Stack up LSTM outputs using view\n",
    "        out = out.view(-1, self.n_hidden)\n",
    "        \n",
    "        ## TODO: put x through the fully-connected layer\n",
    "        out = self.fc(out)\n",
    "        \n",
    "        # return the final output and the hidden state\n",
    "        return out, hidden\n",
    "    \n",
    "    \n",
    "    def init_hidden(self, batch_size):\n",
    "        ''' Initializes hidden state '''\n",
    "        # Create two new tensors with sizes n_layers x batch_size x n_hidden,\n",
    "        # initialized to zero, for hidden state and cell state of LSTM\n",
    "        weight = next(self.parameters()).data\n",
    "        \n",
    "        if (train_on_gpu):\n",
    "            hidden = (weight.new(self.n_layers, batch_size, self.n_hidden).zero_().cuda(),\n",
    "                  weight.new(self.n_layers, batch_size, self.n_hidden).zero_().cuda())\n",
    "        else:\n",
    "            hidden = (weight.new(self.n_layers, batch_size, self.n_hidden).zero_(),\n",
    "                      weight.new(self.n_layers, batch_size, self.n_hidden).zero_())\n",
    "        \n",
    "        return hidden\n",
    "        "
   ]
  },
  {
   "cell_type": "markdown",
   "metadata": {},
   "source": [
    "## Time to train\n",
    "\n",
    "The train function gives us the ability to set the number of epochs, the learning rate, and other parameters.\n",
    "\n",
    "Below we're using an Adam optimizer and cross entropy loss since we are looking at character class scores as output. We calculate the loss and perform backpropagation, as usual!\n",
    "\n",
    "A couple of details about training: \n",
    ">* Within the batch loop, we detach the hidden state from its history; this time setting it equal to a new *tuple* variable because an LSTM has a hidden state that is a tuple of the hidden and cell states.\n",
    "* We use [`clip_grad_norm_`](https://pytorch.org/docs/stable/_modules/torch/nn/utils/clip_grad.html) to help prevent exploding gradients."
   ]
  },
  {
   "cell_type": "code",
   "execution_count": 13,
   "metadata": {
    "collapsed": true
   },
   "outputs": [],
   "source": [
    "def train(net, data, epochs=10, batch_size=10, seq_length=50, lr=0.001, clip=5, val_frac=0.1, print_every=10):\n",
    "    ''' Training a network \n",
    "    \n",
    "        Arguments\n",
    "        ---------\n",
    "        \n",
    "        net: CharRNN network\n",
    "        data: text data to train the network\n",
    "        epochs: Number of epochs to train\n",
    "        batch_size: Number of mini-sequences per mini-batch, aka batch size\n",
    "        seq_length: Number of character steps per mini-batch\n",
    "        lr: learning rate\n",
    "        clip: gradient clipping\n",
    "        val_frac: Fraction of data to hold out for validation\n",
    "        print_every: Number of steps for printing training and validation loss\n",
    "    \n",
    "    '''\n",
    "    \n",
    "    opt = torch.optim.Adam(net.parameters(), lr=lr)\n",
    "    criterion = nn.CrossEntropyLoss()\n",
    "    \n",
    "    # create training and validation data\n",
    "    val_idx = int(len(data)*(1-val_frac))\n",
    "    data, val_data = data[:val_idx], data[val_idx:]\n",
    "    \n",
    "    if(train_on_gpu):\n",
    "        net.cuda()\n",
    "    \n",
    "    counter = 0\n",
    "    n_chars = len(net.chars)\n",
    "    for e in range(epochs):\n",
    "        # initialize hidden state\n",
    "        h = net.init_hidden(batch_size)\n",
    "        \n",
    "        for x, y in get_batches(data, batch_size, seq_length):\n",
    "            counter += 1\n",
    "            \n",
    "            # One-hot encode our data and make them Torch tensors\n",
    "            x = one_hot_encode(x, n_chars)\n",
    "            inputs, targets = torch.from_numpy(x), torch.from_numpy(y)\n",
    "            \n",
    "            if(train_on_gpu):\n",
    "                inputs, targets = inputs.cuda(), targets.cuda()\n",
    "\n",
    "            # Creating new variables for the hidden state, otherwise\n",
    "            # we'd backprop through the entire training history\n",
    "            h = tuple([each.data for each in h])\n",
    "\n",
    "            # zero accumulated gradients\n",
    "            net.zero_grad()\n",
    "            \n",
    "            # get the output from the model\n",
    "            output, h = net(inputs, h)\n",
    "            \n",
    "            # calculate the loss and perform backprop\n",
    "            loss = criterion(output, targets.view(batch_size*seq_length))\n",
    "            loss.backward()\n",
    "            # `clip_grad_norm` helps prevent the exploding gradient problem in RNNs / LSTMs.\n",
    "            nn.utils.clip_grad_norm_(net.parameters(), clip)\n",
    "            opt.step()\n",
    "            \n",
    "            # loss stats\n",
    "            if counter % print_every == 0:\n",
    "                # Get validation loss\n",
    "                val_h = net.init_hidden(batch_size)\n",
    "                val_losses = []\n",
    "                for x, y in get_batches(val_data, batch_size, seq_length):\n",
    "                    # One-hot encode our data and make them Torch tensors\n",
    "                    x = one_hot_encode(x, n_chars)\n",
    "                    x, y = torch.from_numpy(x), torch.from_numpy(y)\n",
    "                    \n",
    "                    # Creating new variables for the hidden state, otherwise\n",
    "                    # we'd backprop through the entire training history\n",
    "                    val_h = tuple([each.data for each in val_h])\n",
    "                    \n",
    "                    inputs, targets = x, y\n",
    "                    if(train_on_gpu):\n",
    "                        inputs, targets = inputs.cuda(), targets.cuda()\n",
    "\n",
    "                    output, val_h = net(inputs, val_h)\n",
    "                    val_loss = criterion(output, targets.view(batch_size*seq_length))\n",
    "                \n",
    "                    val_losses.append(val_loss.item())\n",
    "                \n",
    "                print(\"Epoch: {}/{}...\".format(e+1, epochs),\n",
    "                      \"Step: {}...\".format(counter),\n",
    "                      \"Loss: {:.4f}...\".format(loss.item()),\n",
    "                      \"Val Loss: {:.4f}\".format(np.mean(val_losses)))"
   ]
  },
  {
   "cell_type": "markdown",
   "metadata": {},
   "source": [
    "## Instantiating the model\n",
    "\n",
    "Now we can actually train the network. First we'll create the network itself, with some given hyperparameters. Then, define the mini-batches sizes, and start training!"
   ]
  },
  {
   "cell_type": "code",
   "execution_count": 14,
   "metadata": {},
   "outputs": [
    {
     "name": "stdout",
     "output_type": "stream",
     "text": [
      "CharRNN(\n",
      "  (lstm): LSTM(83, 512, num_layers=2, batch_first=True, dropout=0.5)\n",
      "  (dropout): Dropout(p=0.5)\n",
      "  (fc): Linear(in_features=512, out_features=83, bias=True)\n",
      ")\n"
     ]
    }
   ],
   "source": [
    "# define and print the net\n",
    "n_hidden=512\n",
    "n_layers=2\n",
    "\n",
    "net = CharRNN(chars, n_hidden, n_layers)\n",
    "print(net)"
   ]
  },
  {
   "cell_type": "code",
   "execution_count": 15,
   "metadata": {
    "scrolled": true
   },
   "outputs": [
    {
     "name": "stdout",
     "output_type": "stream",
     "text": [
      "Epoch: 1/20... Step: 10... Loss: 3.2586... Val Loss: 3.2433\n",
      "Epoch: 1/20... Step: 20... Loss: 3.1440... Val Loss: 3.1664\n",
      "Epoch: 1/20... Step: 30... Loss: 3.1404... Val Loss: 3.1491\n",
      "Epoch: 1/20... Step: 40... Loss: 3.1143... Val Loss: 3.1411\n",
      "Epoch: 1/20... Step: 50... Loss: 3.1412... Val Loss: 3.1364\n",
      "Epoch: 1/20... Step: 60... Loss: 3.1162... Val Loss: 3.1300\n",
      "Epoch: 1/20... Step: 70... Loss: 3.1024... Val Loss: 3.1241\n",
      "Epoch: 1/20... Step: 80... Loss: 3.1089... Val Loss: 3.1102\n",
      "Epoch: 1/20... Step: 90... Loss: 3.0933... Val Loss: 3.0841\n",
      "Epoch: 1/20... Step: 100... Loss: 3.0291... Val Loss: 3.0298\n",
      "Epoch: 1/20... Step: 110... Loss: 2.9347... Val Loss: 2.9269\n",
      "Epoch: 1/20... Step: 120... Loss: 2.7902... Val Loss: 2.8098\n",
      "Epoch: 1/20... Step: 130... Loss: 2.6859... Val Loss: 2.6849\n",
      "Epoch: 2/20... Step: 140... Loss: 2.6167... Val Loss: 2.5979\n",
      "Epoch: 2/20... Step: 150... Loss: 2.5531... Val Loss: 2.5450\n",
      "Epoch: 2/20... Step: 160... Loss: 2.4897... Val Loss: 2.4989\n",
      "Epoch: 2/20... Step: 170... Loss: 2.4304... Val Loss: 2.4618\n",
      "Epoch: 2/20... Step: 180... Loss: 2.4085... Val Loss: 2.4301\n",
      "Epoch: 2/20... Step: 190... Loss: 2.3541... Val Loss: 2.4006\n",
      "Epoch: 2/20... Step: 200... Loss: 2.3601... Val Loss: 2.3757\n",
      "Epoch: 2/20... Step: 210... Loss: 2.3190... Val Loss: 2.3527\n",
      "Epoch: 2/20... Step: 220... Loss: 2.2831... Val Loss: 2.3219\n",
      "Epoch: 2/20... Step: 230... Loss: 2.2693... Val Loss: 2.3027\n",
      "Epoch: 2/20... Step: 240... Loss: 2.2527... Val Loss: 2.2803\n",
      "Epoch: 2/20... Step: 250... Loss: 2.1870... Val Loss: 2.2620\n",
      "Epoch: 2/20... Step: 260... Loss: 2.1656... Val Loss: 2.2372\n",
      "Epoch: 2/20... Step: 270... Loss: 2.1765... Val Loss: 2.2155\n",
      "Epoch: 3/20... Step: 280... Loss: 2.1699... Val Loss: 2.1946\n",
      "Epoch: 3/20... Step: 290... Loss: 2.1352... Val Loss: 2.1744\n",
      "Epoch: 3/20... Step: 300... Loss: 2.1032... Val Loss: 2.1588\n",
      "Epoch: 3/20... Step: 310... Loss: 2.0869... Val Loss: 2.1420\n",
      "Epoch: 3/20... Step: 320... Loss: 2.0471... Val Loss: 2.1231\n",
      "Epoch: 3/20... Step: 330... Loss: 2.0307... Val Loss: 2.1110\n",
      "Epoch: 3/20... Step: 340... Loss: 2.0570... Val Loss: 2.0971\n",
      "Epoch: 3/20... Step: 350... Loss: 2.0298... Val Loss: 2.0791\n",
      "Epoch: 3/20... Step: 360... Loss: 1.9579... Val Loss: 2.0680\n",
      "Epoch: 3/20... Step: 370... Loss: 1.9900... Val Loss: 2.0539\n",
      "Epoch: 3/20... Step: 380... Loss: 1.9728... Val Loss: 2.0366\n",
      "Epoch: 3/20... Step: 390... Loss: 1.9413... Val Loss: 2.0265\n",
      "Epoch: 3/20... Step: 400... Loss: 1.9172... Val Loss: 2.0134\n",
      "Epoch: 3/20... Step: 410... Loss: 1.9316... Val Loss: 1.9988\n",
      "Epoch: 4/20... Step: 420... Loss: 1.9151... Val Loss: 1.9885\n",
      "Epoch: 4/20... Step: 430... Loss: 1.9062... Val Loss: 1.9775\n",
      "Epoch: 4/20... Step: 440... Loss: 1.8880... Val Loss: 1.9618\n",
      "Epoch: 4/20... Step: 450... Loss: 1.8396... Val Loss: 1.9526\n",
      "Epoch: 4/20... Step: 460... Loss: 1.8220... Val Loss: 1.9408\n",
      "Epoch: 4/20... Step: 470... Loss: 1.8578... Val Loss: 1.9339\n",
      "Epoch: 4/20... Step: 480... Loss: 1.8319... Val Loss: 1.9213\n",
      "Epoch: 4/20... Step: 490... Loss: 1.8413... Val Loss: 1.9099\n",
      "Epoch: 4/20... Step: 500... Loss: 1.8327... Val Loss: 1.9021\n",
      "Epoch: 4/20... Step: 510... Loss: 1.8032... Val Loss: 1.8924\n",
      "Epoch: 4/20... Step: 520... Loss: 1.8298... Val Loss: 1.8823\n",
      "Epoch: 4/20... Step: 530... Loss: 1.7836... Val Loss: 1.8779\n",
      "Epoch: 4/20... Step: 540... Loss: 1.7490... Val Loss: 1.8640\n",
      "Epoch: 4/20... Step: 550... Loss: 1.7923... Val Loss: 1.8558\n",
      "Epoch: 5/20... Step: 560... Loss: 1.7574... Val Loss: 1.8474\n",
      "Epoch: 5/20... Step: 570... Loss: 1.7509... Val Loss: 1.8363\n",
      "Epoch: 5/20... Step: 580... Loss: 1.7336... Val Loss: 1.8293\n",
      "Epoch: 5/20... Step: 590... Loss: 1.7217... Val Loss: 1.8220\n",
      "Epoch: 5/20... Step: 600... Loss: 1.7219... Val Loss: 1.8163\n",
      "Epoch: 5/20... Step: 610... Loss: 1.6961... Val Loss: 1.8087\n",
      "Epoch: 5/20... Step: 620... Loss: 1.7063... Val Loss: 1.8029\n",
      "Epoch: 5/20... Step: 630... Loss: 1.7119... Val Loss: 1.7973\n",
      "Epoch: 5/20... Step: 640... Loss: 1.6856... Val Loss: 1.7868\n",
      "Epoch: 5/20... Step: 650... Loss: 1.6724... Val Loss: 1.7834\n",
      "Epoch: 5/20... Step: 660... Loss: 1.6509... Val Loss: 1.7741\n",
      "Epoch: 5/20... Step: 670... Loss: 1.6738... Val Loss: 1.7710\n",
      "Epoch: 5/20... Step: 680... Loss: 1.6763... Val Loss: 1.7598\n",
      "Epoch: 5/20... Step: 690... Loss: 1.6485... Val Loss: 1.7569\n",
      "Epoch: 6/20... Step: 700... Loss: 1.6576... Val Loss: 1.7482\n",
      "Epoch: 6/20... Step: 710... Loss: 1.6397... Val Loss: 1.7449\n",
      "Epoch: 6/20... Step: 720... Loss: 1.6253... Val Loss: 1.7377\n",
      "Epoch: 6/20... Step: 730... Loss: 1.6466... Val Loss: 1.7299\n",
      "Epoch: 6/20... Step: 740... Loss: 1.6145... Val Loss: 1.7290\n",
      "Epoch: 6/20... Step: 750... Loss: 1.5961... Val Loss: 1.7211\n",
      "Epoch: 6/20... Step: 760... Loss: 1.6286... Val Loss: 1.7225\n",
      "Epoch: 6/20... Step: 770... Loss: 1.6123... Val Loss: 1.7173\n",
      "Epoch: 6/20... Step: 780... Loss: 1.5896... Val Loss: 1.7098\n",
      "Epoch: 6/20... Step: 790... Loss: 1.5843... Val Loss: 1.7057\n",
      "Epoch: 6/20... Step: 800... Loss: 1.6038... Val Loss: 1.6993\n",
      "Epoch: 6/20... Step: 810... Loss: 1.5852... Val Loss: 1.6995\n",
      "Epoch: 6/20... Step: 820... Loss: 1.5400... Val Loss: 1.6955\n",
      "Epoch: 6/20... Step: 830... Loss: 1.5834... Val Loss: 1.6879\n",
      "Epoch: 7/20... Step: 840... Loss: 1.5477... Val Loss: 1.6812\n",
      "Epoch: 7/20... Step: 850... Loss: 1.5692... Val Loss: 1.6787\n",
      "Epoch: 7/20... Step: 860... Loss: 1.5488... Val Loss: 1.6688\n",
      "Epoch: 7/20... Step: 870... Loss: 1.5584... Val Loss: 1.6638\n",
      "Epoch: 7/20... Step: 880... Loss: 1.5539... Val Loss: 1.6643\n",
      "Epoch: 7/20... Step: 890... Loss: 1.5563... Val Loss: 1.6595\n",
      "Epoch: 7/20... Step: 900... Loss: 1.5359... Val Loss: 1.6562\n",
      "Epoch: 7/20... Step: 910... Loss: 1.5147... Val Loss: 1.6551\n",
      "Epoch: 7/20... Step: 920... Loss: 1.5353... Val Loss: 1.6545\n",
      "Epoch: 7/20... Step: 930... Loss: 1.5199... Val Loss: 1.6540\n",
      "Epoch: 7/20... Step: 940... Loss: 1.5227... Val Loss: 1.6479\n",
      "Epoch: 7/20... Step: 950... Loss: 1.5363... Val Loss: 1.6403\n",
      "Epoch: 7/20... Step: 960... Loss: 1.5292... Val Loss: 1.6392\n",
      "Epoch: 7/20... Step: 970... Loss: 1.5329... Val Loss: 1.6335\n",
      "Epoch: 8/20... Step: 980... Loss: 1.5128... Val Loss: 1.6325\n",
      "Epoch: 8/20... Step: 990... Loss: 1.5101... Val Loss: 1.6282\n",
      "Epoch: 8/20... Step: 1000... Loss: 1.5019... Val Loss: 1.6254\n",
      "Epoch: 8/20... Step: 1010... Loss: 1.5412... Val Loss: 1.6190\n",
      "Epoch: 8/20... Step: 1020... Loss: 1.5080... Val Loss: 1.6186\n",
      "Epoch: 8/20... Step: 1030... Loss: 1.4853... Val Loss: 1.6132\n",
      "Epoch: 8/20... Step: 1040... Loss: 1.4960... Val Loss: 1.6151\n",
      "Epoch: 8/20... Step: 1050... Loss: 1.4791... Val Loss: 1.6095\n",
      "Epoch: 8/20... Step: 1060... Loss: 1.4711... Val Loss: 1.6020\n",
      "Epoch: 8/20... Step: 1070... Loss: 1.4968... Val Loss: 1.6027\n",
      "Epoch: 8/20... Step: 1080... Loss: 1.4857... Val Loss: 1.5991\n",
      "Epoch: 8/20... Step: 1090... Loss: 1.4688... Val Loss: 1.5947\n",
      "Epoch: 8/20... Step: 1100... Loss: 1.4542... Val Loss: 1.5963\n",
      "Epoch: 8/20... Step: 1110... Loss: 1.4644... Val Loss: 1.5915\n",
      "Epoch: 9/20... Step: 1120... Loss: 1.4820... Val Loss: 1.5897\n",
      "Epoch: 9/20... Step: 1130... Loss: 1.4649... Val Loss: 1.5836\n",
      "Epoch: 9/20... Step: 1140... Loss: 1.4695... Val Loss: 1.5772\n",
      "Epoch: 9/20... Step: 1150... Loss: 1.4832... Val Loss: 1.5802\n",
      "Epoch: 9/20... Step: 1160... Loss: 1.4462... Val Loss: 1.5797\n",
      "Epoch: 9/20... Step: 1170... Loss: 1.4594... Val Loss: 1.5743\n",
      "Epoch: 9/20... Step: 1180... Loss: 1.4441... Val Loss: 1.5738\n",
      "Epoch: 9/20... Step: 1190... Loss: 1.4718... Val Loss: 1.5697\n",
      "Epoch: 9/20... Step: 1200... Loss: 1.4153... Val Loss: 1.5650\n",
      "Epoch: 9/20... Step: 1210... Loss: 1.4394... Val Loss: 1.5653\n",
      "Epoch: 9/20... Step: 1220... Loss: 1.4392... Val Loss: 1.5655\n",
      "Epoch: 9/20... Step: 1230... Loss: 1.4168... Val Loss: 1.5597\n",
      "Epoch: 9/20... Step: 1240... Loss: 1.4224... Val Loss: 1.5594\n",
      "Epoch: 9/20... Step: 1250... Loss: 1.4267... Val Loss: 1.5561\n",
      "Epoch: 10/20... Step: 1260... Loss: 1.4388... Val Loss: 1.5593\n",
      "Epoch: 10/20... Step: 1270... Loss: 1.4338... Val Loss: 1.5520\n",
      "Epoch: 10/20... Step: 1280... Loss: 1.4401... Val Loss: 1.5486\n",
      "Epoch: 10/20... Step: 1290... Loss: 1.4286... Val Loss: 1.5484\n",
      "Epoch: 10/20... Step: 1300... Loss: 1.4136... Val Loss: 1.5481\n",
      "Epoch: 10/20... Step: 1310... Loss: 1.4310... Val Loss: 1.5440\n",
      "Epoch: 10/20... Step: 1320... Loss: 1.3928... Val Loss: 1.5452\n",
      "Epoch: 10/20... Step: 1330... Loss: 1.4029... Val Loss: 1.5419\n",
      "Epoch: 10/20... Step: 1340... Loss: 1.3817... Val Loss: 1.5398\n",
      "Epoch: 10/20... Step: 1350... Loss: 1.3757... Val Loss: 1.5396\n",
      "Epoch: 10/20... Step: 1360... Loss: 1.3896... Val Loss: 1.5385\n",
      "Epoch: 10/20... Step: 1370... Loss: 1.3738... Val Loss: 1.5327\n",
      "Epoch: 10/20... Step: 1380... Loss: 1.4167... Val Loss: 1.5332\n",
      "Epoch: 10/20... Step: 1390... Loss: 1.4220... Val Loss: 1.5295\n",
      "Epoch: 11/20... Step: 1400... Loss: 1.4232... Val Loss: 1.5313\n",
      "Epoch: 11/20... Step: 1410... Loss: 1.4238... Val Loss: 1.5263\n",
      "Epoch: 11/20... Step: 1420... Loss: 1.4204... Val Loss: 1.5227\n",
      "Epoch: 11/20... Step: 1430... Loss: 1.3793... Val Loss: 1.5230\n",
      "Epoch: 11/20... Step: 1440... Loss: 1.4236... Val Loss: 1.5195\n",
      "Epoch: 11/20... Step: 1450... Loss: 1.3515... Val Loss: 1.5182\n",
      "Epoch: 11/20... Step: 1460... Loss: 1.3728... Val Loss: 1.5190\n",
      "Epoch: 11/20... Step: 1470... Loss: 1.3623... Val Loss: 1.5175\n",
      "Epoch: 11/20... Step: 1480... Loss: 1.3751... Val Loss: 1.5117\n",
      "Epoch: 11/20... Step: 1490... Loss: 1.3651... Val Loss: 1.5138\n",
      "Epoch: 11/20... Step: 1500... Loss: 1.3565... Val Loss: 1.5130\n",
      "Epoch: 11/20... Step: 1510... Loss: 1.3497... Val Loss: 1.5107\n",
      "Epoch: 11/20... Step: 1520... Loss: 1.3799... Val Loss: 1.5096\n",
      "Epoch: 12/20... Step: 1530... Loss: 1.4272... Val Loss: 1.5113\n",
      "Epoch: 12/20... Step: 1540... Loss: 1.3840... Val Loss: 1.5044\n",
      "Epoch: 12/20... Step: 1550... Loss: 1.3784... Val Loss: 1.5028\n",
      "Epoch: 12/20... Step: 1560... Loss: 1.4054... Val Loss: 1.5005\n",
      "Epoch: 12/20... Step: 1570... Loss: 1.3451... Val Loss: 1.5063\n",
      "Epoch: 12/20... Step: 1580... Loss: 1.3248... Val Loss: 1.4983\n",
      "Epoch: 12/20... Step: 1590... Loss: 1.3254... Val Loss: 1.4971\n",
      "Epoch: 12/20... Step: 1600... Loss: 1.3465... Val Loss: 1.4944\n",
      "Epoch: 12/20... Step: 1610... Loss: 1.3425... Val Loss: 1.4953\n",
      "Epoch: 12/20... Step: 1620... Loss: 1.3404... Val Loss: 1.4911\n",
      "Epoch: 12/20... Step: 1630... Loss: 1.3525... Val Loss: 1.4947\n",
      "Epoch: 12/20... Step: 1640... Loss: 1.3409... Val Loss: 1.4910\n",
      "Epoch: 12/20... Step: 1650... Loss: 1.3120... Val Loss: 1.4943\n",
      "Epoch: 12/20... Step: 1660... Loss: 1.3753... Val Loss: 1.4900\n",
      "Epoch: 13/20... Step: 1670... Loss: 1.3273... Val Loss: 1.4920\n",
      "Epoch: 13/20... Step: 1680... Loss: 1.3566... Val Loss: 1.4841\n",
      "Epoch: 13/20... Step: 1690... Loss: 1.3294... Val Loss: 1.4830\n",
      "Epoch: 13/20... Step: 1700... Loss: 1.3269... Val Loss: 1.4806\n",
      "Epoch: 13/20... Step: 1710... Loss: 1.3126... Val Loss: 1.4868\n",
      "Epoch: 13/20... Step: 1720... Loss: 1.3249... Val Loss: 1.4821\n",
      "Epoch: 13/20... Step: 1730... Loss: 1.3540... Val Loss: 1.4791\n",
      "Epoch: 13/20... Step: 1740... Loss: 1.3275... Val Loss: 1.4788\n",
      "Epoch: 13/20... Step: 1750... Loss: 1.2902... Val Loss: 1.4858\n",
      "Epoch: 13/20... Step: 1760... Loss: 1.3207... Val Loss: 1.4821\n",
      "Epoch: 13/20... Step: 1770... Loss: 1.3440... Val Loss: 1.4773\n",
      "Epoch: 13/20... Step: 1780... Loss: 1.3135... Val Loss: 1.4764\n",
      "Epoch: 13/20... Step: 1790... Loss: 1.3071... Val Loss: 1.4735\n",
      "Epoch: 13/20... Step: 1800... Loss: 1.3322... Val Loss: 1.4736\n",
      "Epoch: 14/20... Step: 1810... Loss: 1.3257... Val Loss: 1.4734\n",
      "Epoch: 14/20... Step: 1820... Loss: 1.3207... Val Loss: 1.4703\n",
      "Epoch: 14/20... Step: 1830... Loss: 1.3383... Val Loss: 1.4671\n",
      "Epoch: 14/20... Step: 1840... Loss: 1.2849... Val Loss: 1.4714\n",
      "Epoch: 14/20... Step: 1850... Loss: 1.2670... Val Loss: 1.4687\n",
      "Epoch: 14/20... Step: 1860... Loss: 1.3216... Val Loss: 1.4673\n",
      "Epoch: 14/20... Step: 1870... Loss: 1.3324... Val Loss: 1.4631\n",
      "Epoch: 14/20... Step: 1880... Loss: 1.3216... Val Loss: 1.4634\n",
      "Epoch: 14/20... Step: 1890... Loss: 1.3319... Val Loss: 1.4665\n",
      "Epoch: 14/20... Step: 1900... Loss: 1.3055... Val Loss: 1.4649\n",
      "Epoch: 14/20... Step: 1910... Loss: 1.3011... Val Loss: 1.4638\n",
      "Epoch: 14/20... Step: 1920... Loss: 1.2960... Val Loss: 1.4648\n",
      "Epoch: 14/20... Step: 1930... Loss: 1.2761... Val Loss: 1.4600\n",
      "Epoch: 14/20... Step: 1940... Loss: 1.3382... Val Loss: 1.4554\n",
      "Epoch: 15/20... Step: 1950... Loss: 1.3055... Val Loss: 1.4610\n",
      "Epoch: 15/20... Step: 1960... Loss: 1.3021... Val Loss: 1.4532\n",
      "Epoch: 15/20... Step: 1970... Loss: 1.2988... Val Loss: 1.4500\n",
      "Epoch: 15/20... Step: 1980... Loss: 1.2872... Val Loss: 1.4532\n",
      "Epoch: 15/20... Step: 1990... Loss: 1.2843... Val Loss: 1.4507\n",
      "Epoch: 15/20... Step: 2000... Loss: 1.2709... Val Loss: 1.4579\n",
      "Epoch: 15/20... Step: 2010... Loss: 1.2888... Val Loss: 1.4483\n",
      "Epoch: 15/20... Step: 2020... Loss: 1.3075... Val Loss: 1.4506\n",
      "Epoch: 15/20... Step: 2030... Loss: 1.2771... Val Loss: 1.4535\n",
      "Epoch: 15/20... Step: 2040... Loss: 1.2930... Val Loss: 1.4546\n",
      "Epoch: 15/20... Step: 2050... Loss: 1.2726... Val Loss: 1.4519\n",
      "Epoch: 15/20... Step: 2060... Loss: 1.2834... Val Loss: 1.4480\n",
      "Epoch: 15/20... Step: 2070... Loss: 1.2949... Val Loss: 1.4437\n",
      "Epoch: 15/20... Step: 2080... Loss: 1.2904... Val Loss: 1.4439\n",
      "Epoch: 16/20... Step: 2090... Loss: 1.2913... Val Loss: 1.4486\n",
      "Epoch: 16/20... Step: 2100... Loss: 1.2800... Val Loss: 1.4459\n",
      "Epoch: 16/20... Step: 2110... Loss: 1.2836... Val Loss: 1.4423\n",
      "Epoch: 16/20... Step: 2120... Loss: 1.2924... Val Loss: 1.4456\n",
      "Epoch: 16/20... Step: 2130... Loss: 1.2556... Val Loss: 1.4476\n",
      "Epoch: 16/20... Step: 2140... Loss: 1.2678... Val Loss: 1.4442\n",
      "Epoch: 16/20... Step: 2150... Loss: 1.2967... Val Loss: 1.4393\n",
      "Epoch: 16/20... Step: 2160... Loss: 1.2726... Val Loss: 1.4404\n",
      "Epoch: 16/20... Step: 2170... Loss: 1.2708... Val Loss: 1.4427\n",
      "Epoch: 16/20... Step: 2180... Loss: 1.2714... Val Loss: 1.4388\n",
      "Epoch: 16/20... Step: 2190... Loss: 1.2826... Val Loss: 1.4354\n",
      "Epoch: 16/20... Step: 2200... Loss: 1.2612... Val Loss: 1.4379\n",
      "Epoch: 16/20... Step: 2210... Loss: 1.2285... Val Loss: 1.4345\n",
      "Epoch: 16/20... Step: 2220... Loss: 1.2775... Val Loss: 1.4366\n",
      "Epoch: 17/20... Step: 2230... Loss: 1.2535... Val Loss: 1.4359\n",
      "Epoch: 17/20... Step: 2240... Loss: 1.2649... Val Loss: 1.4381\n",
      "Epoch: 17/20... Step: 2250... Loss: 1.2464... Val Loss: 1.4363\n",
      "Epoch: 17/20... Step: 2260... Loss: 1.2644... Val Loss: 1.4377\n",
      "Epoch: 17/20... Step: 2270... Loss: 1.2750... Val Loss: 1.4381\n",
      "Epoch: 17/20... Step: 2280... Loss: 1.2764... Val Loss: 1.4326\n",
      "Epoch: 17/20... Step: 2290... Loss: 1.2708... Val Loss: 1.4256\n",
      "Epoch: 17/20... Step: 2300... Loss: 1.2397... Val Loss: 1.4308\n",
      "Epoch: 17/20... Step: 2310... Loss: 1.2562... Val Loss: 1.4288\n",
      "Epoch: 17/20... Step: 2320... Loss: 1.2550... Val Loss: 1.4323\n",
      "Epoch: 17/20... Step: 2330... Loss: 1.2422... Val Loss: 1.4315\n",
      "Epoch: 17/20... Step: 2340... Loss: 1.2614... Val Loss: 1.4307\n",
      "Epoch: 17/20... Step: 2350... Loss: 1.2656... Val Loss: 1.4308\n",
      "Epoch: 17/20... Step: 2360... Loss: 1.2675... Val Loss: 1.4293\n",
      "Epoch: 18/20... Step: 2370... Loss: 1.2419... Val Loss: 1.4266\n",
      "Epoch: 18/20... Step: 2380... Loss: 1.2518... Val Loss: 1.4277\n",
      "Epoch: 18/20... Step: 2390... Loss: 1.2504... Val Loss: 1.4244\n",
      "Epoch: 18/20... Step: 2400... Loss: 1.2676... Val Loss: 1.4296\n",
      "Epoch: 18/20... Step: 2410... Loss: 1.2725... Val Loss: 1.4247\n",
      "Epoch: 18/20... Step: 2420... Loss: 1.2494... Val Loss: 1.4244\n",
      "Epoch: 18/20... Step: 2430... Loss: 1.2499... Val Loss: 1.4221\n",
      "Epoch: 18/20... Step: 2440... Loss: 1.2371... Val Loss: 1.4221\n",
      "Epoch: 18/20... Step: 2450... Loss: 1.2424... Val Loss: 1.4232\n",
      "Epoch: 18/20... Step: 2460... Loss: 1.2559... Val Loss: 1.4215\n",
      "Epoch: 18/20... Step: 2470... Loss: 1.2435... Val Loss: 1.4219\n",
      "Epoch: 18/20... Step: 2480... Loss: 1.2448... Val Loss: 1.4240\n",
      "Epoch: 18/20... Step: 2490... Loss: 1.2195... Val Loss: 1.4242\n",
      "Epoch: 18/20... Step: 2500... Loss: 1.2370... Val Loss: 1.4212\n",
      "Epoch: 19/20... Step: 2510... Loss: 1.2398... Val Loss: 1.4164\n",
      "Epoch: 19/20... Step: 2520... Loss: 1.2532... Val Loss: 1.4174\n",
      "Epoch: 19/20... Step: 2530... Loss: 1.2567... Val Loss: 1.4202\n",
      "Epoch: 19/20... Step: 2540... Loss: 1.2648... Val Loss: 1.4188\n",
      "Epoch: 19/20... Step: 2550... Loss: 1.2283... Val Loss: 1.4155\n",
      "Epoch: 19/20... Step: 2560... Loss: 1.2469... Val Loss: 1.4130\n",
      "Epoch: 19/20... Step: 2570... Loss: 1.2328... Val Loss: 1.4149\n",
      "Epoch: 19/20... Step: 2580... Loss: 1.2641... Val Loss: 1.4146\n",
      "Epoch: 19/20... Step: 2590... Loss: 1.2342... Val Loss: 1.4153\n",
      "Epoch: 19/20... Step: 2600... Loss: 1.2322... Val Loss: 1.4133\n",
      "Epoch: 19/20... Step: 2610... Loss: 1.2339... Val Loss: 1.4100\n",
      "Epoch: 19/20... Step: 2620... Loss: 1.2166... Val Loss: 1.4109\n",
      "Epoch: 19/20... Step: 2630... Loss: 1.2180... Val Loss: 1.4154\n",
      "Epoch: 19/20... Step: 2640... Loss: 1.2420... Val Loss: 1.4170\n",
      "Epoch: 20/20... Step: 2650... Loss: 1.2472... Val Loss: 1.4139\n",
      "Epoch: 20/20... Step: 2660... Loss: 1.2402... Val Loss: 1.4140\n",
      "Epoch: 20/20... Step: 2670... Loss: 1.2573... Val Loss: 1.4120\n",
      "Epoch: 20/20... Step: 2680... Loss: 1.2425... Val Loss: 1.4090\n",
      "Epoch: 20/20... Step: 2690... Loss: 1.2334... Val Loss: 1.4111\n",
      "Epoch: 20/20... Step: 2700... Loss: 1.2387... Val Loss: 1.4065\n",
      "Epoch: 20/20... Step: 2710... Loss: 1.2103... Val Loss: 1.4041\n",
      "Epoch: 20/20... Step: 2720... Loss: 1.2105... Val Loss: 1.4098\n",
      "Epoch: 20/20... Step: 2730... Loss: 1.1931... Val Loss: 1.4105\n",
      "Epoch: 20/20... Step: 2740... Loss: 1.2103... Val Loss: 1.4087\n",
      "Epoch: 20/20... Step: 2750... Loss: 1.2083... Val Loss: 1.4063\n",
      "Epoch: 20/20... Step: 2760... Loss: 1.1960... Val Loss: 1.4064\n",
      "Epoch: 20/20... Step: 2770... Loss: 1.2500... Val Loss: 1.4054\n",
      "Epoch: 20/20... Step: 2780... Loss: 1.2657... Val Loss: 1.4098\n"
     ]
    }
   ],
   "source": [
    "batch_size = 128\n",
    "seq_length = 100\n",
    "n_epochs = 20 # start smaller if you are just testing initial behavior\n",
    "\n",
    "# train the model\n",
    "train(net, encoded, epochs=n_epochs, batch_size=batch_size, seq_length=seq_length, lr=0.001, print_every=10)"
   ]
  },
  {
   "cell_type": "markdown",
   "metadata": {},
   "source": [
    "## Getting the best model\n",
    "\n",
    "To set your hyperparameters to get the best performance, you'll want to watch the training and validation losses. If your training loss is much lower than the validation loss, you're overfitting. Increase regularization (more dropout) or use a smaller network. If the training and validation losses are close, you're underfitting so you can increase the size of the network."
   ]
  },
  {
   "cell_type": "markdown",
   "metadata": {},
   "source": [
    "## Hyperparameters\n",
    "\n",
    "Here are the hyperparameters for the network.\n",
    "\n",
    "In defining the model:\n",
    "* `n_hidden` - The number of units in the hidden layers.\n",
    "* `n_layers` - Number of hidden LSTM layers to use.\n",
    "\n",
    "We assume that dropout probability and learning rate will be kept at the default, in this example.\n",
    "\n",
    "And in training:\n",
    "* `batch_size` - Number of sequences running through the network in one pass.\n",
    "* `seq_length` - Number of characters in the sequence the network is trained on. Larger is better typically, the network will learn more long range dependencies. But it takes longer to train. 100 is typically a good number here.\n",
    "* `lr` - Learning rate for training\n",
    "\n",
    "Here's some good advice from Andrej Karpathy on training the network. I'm going to copy it in here for your benefit, but also link to [where it originally came from](https://github.com/karpathy/char-rnn#tips-and-tricks).\n",
    "\n",
    "> ## Tips and Tricks\n",
    "\n",
    ">### Monitoring Validation Loss vs. Training Loss\n",
    ">If you're somewhat new to Machine Learning or Neural Networks it can take a bit of expertise to get good models. The most important quantity to keep track of is the difference between your training loss (printed during training) and the validation loss (printed once in a while when the RNN is run on the validation data (by default every 1000 iterations)). In particular:\n",
    "\n",
    "> - If your training loss is much lower than validation loss then this means the network might be **overfitting**. Solutions to this are to decrease your network size, or to increase dropout. For example you could try dropout of 0.5 and so on.\n",
    "> - If your training/validation loss are about equal then your model is **underfitting**. Increase the size of your model (either number of layers or the raw number of neurons per layer)\n",
    "\n",
    "> ### Approximate number of parameters\n",
    "\n",
    "> The two most important parameters that control the model are `n_hidden` and `n_layers`. I would advise that you always use `n_layers` of either 2/3. The `n_hidden` can be adjusted based on how much data you have. The two important quantities to keep track of here are:\n",
    "\n",
    "> - The number of parameters in your model. This is printed when you start training.\n",
    "> - The size of your dataset. 1MB file is approximately 1 million characters.\n",
    "\n",
    ">These two should be about the same order of magnitude. It's a little tricky to tell. Here are some examples:\n",
    "\n",
    "> - I have a 100MB dataset and I'm using the default parameter settings (which currently print 150K parameters). My data size is significantly larger (100 mil >> 0.15 mil), so I expect to heavily underfit. I am thinking I can comfortably afford to make `n_hidden` larger.\n",
    "> - I have a 10MB dataset and running a 10 million parameter model. I'm slightly nervous and I'm carefully monitoring my validation loss. If it's larger than my training loss then I may want to try to increase dropout a bit and see if that helps the validation loss.\n",
    "\n",
    "> ### Best models strategy\n",
    "\n",
    ">The winning strategy to obtaining very good models (if you have the compute time) is to always err on making the network larger (as large as you're willing to wait for it to compute) and then try different dropout values (between 0,1). Whatever model has the best validation performance (the loss, written in the checkpoint filename, low is good) is the one you should use in the end.\n",
    "\n",
    ">It is very common in deep learning to run many different models with many different hyperparameter settings, and in the end take whatever checkpoint gave the best validation performance.\n",
    "\n",
    ">By the way, the size of your training and validation splits are also parameters. Make sure you have a decent amount of data in your validation set or otherwise the validation performance will be noisy and not very informative."
   ]
  },
  {
   "cell_type": "markdown",
   "metadata": {},
   "source": [
    "## Checkpoint\n",
    "\n",
    "After training, we'll save the model so we can load it again later if we need too. Here I'm saving the parameters needed to create the same architecture, the hidden layer hyperparameters and the text characters."
   ]
  },
  {
   "cell_type": "code",
   "execution_count": 16,
   "metadata": {
    "collapsed": true
   },
   "outputs": [],
   "source": [
    "# change the name, for saving multiple files\n",
    "model_name = 'rnn_20_epoch.net'\n",
    "\n",
    "checkpoint = {'n_hidden': net.n_hidden,\n",
    "              'n_layers': net.n_layers,\n",
    "              'state_dict': net.state_dict(),\n",
    "              'tokens': net.chars}\n",
    "\n",
    "with open(model_name, 'wb') as f:\n",
    "    torch.save(checkpoint, f)"
   ]
  },
  {
   "cell_type": "markdown",
   "metadata": {},
   "source": [
    "---\n",
    "## Making Predictions\n",
    "\n",
    "Now that the model is trained, we'll want to sample from it and make predictions about next characters! To sample, we pass in a character and have the network predict the next character. Then we take that character, pass it back in, and get another predicted character. Just keep doing this and you'll generate a bunch of text!\n",
    "\n",
    "### A note on the `predict`  function\n",
    "\n",
    "The output of our RNN is from a fully-connected layer and it outputs a **distribution of next-character scores**.\n",
    "\n",
    "> To actually get the next character, we apply a softmax function, which gives us a *probability* distribution that we can then sample to predict the next character.\n",
    "\n",
    "### Top K sampling\n",
    "\n",
    "Our predictions come from a categorical probability distribution over all the possible characters. We can make the sample text and make it more reasonable to handle (with less variables) by only considering some $K$ most probable characters. This will prevent the network from giving us completely absurd characters while allowing it to introduce some noise and randomness into the sampled text. Read more about [topk, here](https://pytorch.org/docs/stable/torch.html#torch.topk).\n"
   ]
  },
  {
   "cell_type": "code",
   "execution_count": 17,
   "metadata": {
    "collapsed": true
   },
   "outputs": [],
   "source": [
    "def predict(net, char, h=None, top_k=None):\n",
    "        ''' Given a character, predict the next character.\n",
    "            Returns the predicted character and the hidden state.\n",
    "        '''\n",
    "        \n",
    "        # tensor inputs\n",
    "        x = np.array([[net.char2int[char]]])\n",
    "        x = one_hot_encode(x, len(net.chars))\n",
    "        inputs = torch.from_numpy(x)\n",
    "        \n",
    "        if(train_on_gpu):\n",
    "            inputs = inputs.cuda()\n",
    "        \n",
    "        # detach hidden state from history\n",
    "        h = tuple([each.data for each in h])\n",
    "        # get the output of the model\n",
    "        out, h = net(inputs, h)\n",
    "\n",
    "        # get the character probabilities\n",
    "        p = F.softmax(out, dim=1).data\n",
    "        if(train_on_gpu):\n",
    "            p = p.cpu() # move to cpu\n",
    "        \n",
    "        # get top characters\n",
    "        if top_k is None:\n",
    "            top_ch = np.arange(len(net.chars))\n",
    "        else:\n",
    "            p, top_ch = p.topk(top_k)\n",
    "            top_ch = top_ch.numpy().squeeze()\n",
    "        \n",
    "        # select the likely next character with some element of randomness\n",
    "        p = p.numpy().squeeze()\n",
    "        char = np.random.choice(top_ch, p=p/p.sum())\n",
    "        \n",
    "        # return the encoded value of the predicted char and the hidden state\n",
    "        return net.int2char[char], h"
   ]
  },
  {
   "cell_type": "markdown",
   "metadata": {},
   "source": [
    "### Priming and generating text \n",
    "\n",
    "Typically you'll want to prime the network so you can build up a hidden state. Otherwise the network will start out generating characters at random. In general the first bunch of characters will be a little rough since it hasn't built up a long history of characters to predict from."
   ]
  },
  {
   "cell_type": "code",
   "execution_count": 18,
   "metadata": {
    "collapsed": true
   },
   "outputs": [],
   "source": [
    "def sample(net, size, prime='The', top_k=None):\n",
    "        \n",
    "    if(train_on_gpu):\n",
    "        net.cuda()\n",
    "    else:\n",
    "        net.cpu()\n",
    "    \n",
    "    # First off, run through the prime characters\n",
    "    chars = [ch for ch in prime]\n",
    "    h = net.init_hidden(1)\n",
    "    for ch in prime:\n",
    "        char, h = predict(net, ch, h, top_k=top_k)\n",
    "\n",
    "    chars.append(char)\n",
    "    \n",
    "    # Now pass in the previous character and get a new one\n",
    "    for ii in range(size):\n",
    "        char, h = predict(net, chars[-1], h, top_k=top_k)\n",
    "        chars.append(char)\n",
    "\n",
    "    return ''.join(chars)"
   ]
  },
  {
   "cell_type": "code",
   "execution_count": 19,
   "metadata": {},
   "outputs": [
    {
     "name": "stdout",
     "output_type": "stream",
     "text": [
      "Anna's she said. \"But, and then you was a big of nothing of all mest-correct interesting minutes\n",
      "as it\n",
      "all soon. Here yesterday, in the sight of hir friend,\"\n",
      "said Levin, with a subject\n",
      "francaded her fol and hilling sign of side,\n",
      "with her, and\n",
      "smiling at the same small way should hold his higher striak.\n",
      "\n",
      "\"You don't lose. You, but that's no somitude\n",
      "of the cammarly. It's taking outsides, in it's nurse.\"\n",
      "\n",
      "\"Ah! thay's idrackings!\" he was not turning words to a spirit of angirized.\"\n",
      "\n",
      "\"Wash's the doctor article, and with an engrow, and this its carriage with anytouse. That's that's not, to much as the commote tomat, though, it wourds it is our\n",
      "the head of the sound of her, I was there at the tearily, seriously clears that,\" said Stepan Arkadyevitch, strick theirwards with a sore of table. \"I will toll you that\n",
      "you have been satidned a more affair, and I can't be a general murch of my son to ask\n",
      "me as.\"\n",
      "\n",
      "\"Why when you was the studid?\" And this the set of this father's fale of expection of the diff\n"
     ]
    }
   ],
   "source": [
    "print(sample(net, 1000, prime='Anna', top_k=5))"
   ]
  },
  {
   "cell_type": "markdown",
   "metadata": {},
   "source": [
    "## Loading a checkpoint"
   ]
  },
  {
   "cell_type": "code",
   "execution_count": 20,
   "metadata": {
    "collapsed": true
   },
   "outputs": [],
   "source": [
    "# Here we have loaded in a model that trained over 20 epochs `rnn_20_epoch.net`\n",
    "with open('rnn_20_epoch.net', 'rb') as f:\n",
    "    checkpoint = torch.load(f)\n",
    "    \n",
    "loaded = CharRNN(checkpoint['tokens'], n_hidden=checkpoint['n_hidden'], n_layers=checkpoint['n_layers'])\n",
    "loaded.load_state_dict(checkpoint['state_dict'])"
   ]
  },
  {
   "cell_type": "code",
   "execution_count": 21,
   "metadata": {},
   "outputs": [
    {
     "name": "stdout",
     "output_type": "stream",
     "text": [
      "And Levin said in what the performance he had\n",
      "nothing the hast at other acquaintances, and which she had not carefully despired that, and shiking with\n",
      "that she had\n",
      "changed the\n",
      "forest to\n",
      "be so intense than all that wite and atcapitation of the\n",
      "possibility of curious position that she had to be a guilty only and it. Twought to be mudding to his secret matters,\n",
      "and with a spore of that did not see humal teals\n",
      "and\n",
      "welight. And at her sanntulich some sicky had not settled intentiying an improvistic temborering that ansoothal ender, he was gailing of his consigures in the\n",
      "stoses, and suddenly telrere to him\n",
      "from the\n",
      "chorician follec him.\n",
      "\n",
      "\"It's the trush,\" said Anna, \"my frement made her singly a trusmen.\"\n",
      "\n",
      "\"Oh, nothing--that is not the concersion. I don't regrow you without he was above nothing. And I say that his but this work as you then, I'm not cartiful anything\n",
      "that. I couldn't go to\n",
      "the sense to\n",
      "you it all to hear.\n",
      "All the carriage this\n",
      "fellow of the minute. We can't see these wime there'll be in the\n",
      "coldar,\" said Levin, and\n",
      "steadily stopped, liking her\n",
      "and hearily and thready to sudden this angertains, and the\n",
      "same thing he had never sufferide one over him, his famalias was surely at the moment he coming to the same stands, still simply\n",
      "becauge.\n",
      "\n",
      "\"Thent a position, annishal and almost samaintare. It will be so\n",
      "that. All and I, with the lannomy church and happiness or the mands and the chashiof as a tarrivilages they set, to so whom I have not\n",
      "done all is todarer, and this,\n",
      "the change of\n",
      "artuchions, now. That's another dress, and you walk if, yesterday it's sences for my friends, and then? What is if it's serengly? You have a mercine of instance,\"\n",
      "she said, laughing\n",
      "his brother.\n",
      "\n",
      "Strange to bright hampess, his\n",
      "father and tender moment and common from\n",
      "the possistion.\n",
      "\n",
      "He was speriad for his pitmical peasants, he sent in thrigge into satively; and was\n",
      "inseeved towards the house in where he comes, a smile.\n",
      "\n",
      "\"What wents, what\n",
      "you see that they woman's a strong?\" she said, with smile.\n"
     ]
    }
   ],
   "source": [
    "# Sample using a loaded model\n",
    "print(sample(loaded, 2000, top_k=5, prime=\"And Levin said\"))"
   ]
  },
  {
   "cell_type": "code",
   "execution_count": null,
   "metadata": {
    "collapsed": true
   },
   "outputs": [],
   "source": []
  }
 ],
 "metadata": {
  "kernelspec": {
   "display_name": "Python [default]",
   "language": "python",
   "name": "python3"
  },
  "language_info": {
   "codemirror_mode": {
    "name": "ipython",
    "version": 3
   },
   "file_extension": ".py",
   "mimetype": "text/x-python",
   "name": "python",
   "nbconvert_exporter": "python",
   "pygments_lexer": "ipython3",
   "version": "3.6.6"
  }
 },
 "nbformat": 4,
 "nbformat_minor": 2
}
